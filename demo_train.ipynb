{
 "cells": [
  {
   "cell_type": "code",
   "execution_count": 5,
   "metadata": {},
   "outputs": [
    {
     "name": "stdout",
     "output_type": "stream",
     "text": [
      "/home/chaos/miniconda3/envs/chaos/lib/python3.10/site-packages/torchtext/data/__init__.py:4: UserWarning: \n",
      "/!\\ IMPORTANT WARNING ABOUT TORCHTEXT STATUS /!\\ \n",
      "Torchtext is deprecated and the last released version will be 0.18 (this one). You can silence this warning by calling the following at the beginnign of your scripts: `import torchtext; torchtext.disable_torchtext_deprecation_warning()`\n",
      "  warnings.warn(torchtext._TORCHTEXT_DEPRECATION_MSG)\n",
      "/home/chaos/miniconda3/envs/chaos/lib/python3.10/site-packages/torchtext/vocab/__init__.py:4: UserWarning: \n",
      "/!\\ IMPORTANT WARNING ABOUT TORCHTEXT STATUS /!\\ \n",
      "Torchtext is deprecated and the last released version will be 0.18 (this one). You can silence this warning by calling the following at the beginnign of your scripts: `import torchtext; torchtext.disable_torchtext_deprecation_warning()`\n",
      "  warnings.warn(torchtext._TORCHTEXT_DEPRECATION_MSG)\n",
      "/home/chaos/miniconda3/envs/chaos/lib/python3.10/site-packages/torchtext/utils.py:4: UserWarning: \n",
      "/!\\ IMPORTANT WARNING ABOUT TORCHTEXT STATUS /!\\ \n",
      "Torchtext is deprecated and the last released version will be 0.18 (this one). You can silence this warning by calling the following at the beginnign of your scripts: `import torchtext; torchtext.disable_torchtext_deprecation_warning()`\n",
      "  warnings.warn(torchtext._TORCHTEXT_DEPRECATION_MSG)\n",
      "/home/chaos/Documents/ChaosAIVision/Transformers-training-with-pytorch/train.py:11: UserWarning: \n",
      "/!\\ IMPORTANT WARNING ABOUT TORCHTEXT STATUS /!\\ \n",
      "Torchtext is deprecated and the last released version will be 0.18 (this one). You can silence this warning by calling the following at the beginnign of your scripts: `import torchtext; torchtext.disable_torchtext_deprecation_warning()`\n",
      "  warnings.warn(torchtext._TORCHTEXT_DEPRECATION_MSG)\n",
      "Using 6852 samples for training and 761 for validation\n",
      "Loading backbone pretrain successfully !\n",
      "/home/chaos/miniconda3/envs/chaos/lib/python3.10/site-packages/torch/nn/_reduction.py:42: UserWarning: size_average and reduce args will be deprecated, please use reduction='mean' instead.\n",
      "  warnings.warn(warning.format(ret))\n",
      "Results will be saved at /home/chaos/Documents/ChaosAIVision/temp_folder/result2\n",
      "Epochs: 1/100:   0%|\u001b[32m                                    \u001b[0m| 0/856 [00:00<?, ?it/s]\u001b[0m\n",
      "Traceback (most recent call last):\n",
      "  File \"/home/chaos/Documents/ChaosAIVision/Transformers-training-with-pytorch/train.py\", line 248, in <module>\n",
      "    train(args)\n",
      "  File \"/home/chaos/Documents/ChaosAIVision/Transformers-training-with-pytorch/train.py\", line 214, in train\n",
      "    train_mAP, train_avg_loss = train_fn(train_loader, model, optimizer, loss_fn, epoch, args.epochs,scaler)\n",
      "  File \"/home/chaos/Documents/ChaosAIVision/Transformers-training-with-pytorch/train.py\", line 51, in train_fn\n",
      "    out = model(x)\n",
      "  File \"/home/chaos/miniconda3/envs/chaos/lib/python3.10/site-packages/torch/nn/modules/module.py\", line 1532, in _wrapped_call_impl\n",
      "    return self._call_impl(*args, **kwargs)\n",
      "  File \"/home/chaos/miniconda3/envs/chaos/lib/python3.10/site-packages/torch/nn/modules/module.py\", line 1541, in _call_impl\n",
      "    return forward_call(*args, **kwargs)\n",
      "TypeError: TransformerTextCls.forward() missing 1 required positional argument: 'mask'\n"
     ]
    }
   ],
   "source": [
    "!python train.py -d data.yaml -b8 -e 100"
   ]
  },
  {
   "cell_type": "code",
   "execution_count": null,
   "metadata": {},
   "outputs": [],
   "source": []
  }
 ],
 "metadata": {
  "kernelspec": {
   "display_name": "chaos",
   "language": "python",
   "name": "python3"
  },
  "language_info": {
   "codemirror_mode": {
    "name": "ipython",
    "version": 3
   },
   "file_extension": ".py",
   "mimetype": "text/x-python",
   "name": "python",
   "nbconvert_exporter": "python",
   "pygments_lexer": "ipython3",
   "version": "3.10.14"
  }
 },
 "nbformat": 4,
 "nbformat_minor": 2
}
